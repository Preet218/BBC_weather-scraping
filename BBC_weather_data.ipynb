{
  "nbformat": 4,
  "nbformat_minor": 0,
  "metadata": {
    "colab": {
      "name": "BBC weather data",
      "provenance": [],
      "collapsed_sections": []
    },
    "kernelspec": {
      "name": "python3",
      "display_name": "Python 3"
    },
    "language_info": {
      "name": "python"
    }
  },
  "cells": [
    {
      "cell_type": "markdown",
      "source": [
        "# BBC Weather Data \n",
        "In this project we obtain the weather prediction data of any city using BBC weather website. \n",
        "First, we make an api call to obtain the location id of the city we want the weather data. Next using the location id we make connection with the bbc database to extract high, low and summary of the day's temperature for the next 14 days."
      ],
      "metadata": {
        "id": "yxgcUEoq-zpy"
      }
    },
    {
      "cell_type": "code",
      "source": [
        "from urllib.parse import urlencode    \n",
        "import requests       # To make connection with the webpage\n",
        "from bs4 import BeautifulSoup as bs      # To parse the webpage\n",
        "import pandas as pd                      \n",
        "import datetime    "
      ],
      "metadata": {
        "id": "SifB-ASwfpVo"
      },
      "execution_count": 1,
      "outputs": []
    },
    {
      "cell_type": "markdown",
      "source": [
        "Making connection to obtain city id"
      ],
      "metadata": {
        "id": "E9pR3Wwx-wIA"
      }
    },
    {
      "cell_type": "code",
      "execution_count": 2,
      "metadata": {
        "id": "_qrvo0cDczbJ"
      },
      "outputs": [],
      "source": [
        "city = 'Mumbai'     # City name \n",
        "location_url = 'https://locator-service.api.bbci.co.uk/locations?' +urlencode({   \n",
        "      'api_key' : 'AGbFAKx58hyjQScCXIYrxuEwJh2W2cmv' ,\n",
        "      'stack' : 'aws' ,\n",
        "      'locale' : 'en', \n",
        "      'filter' : 'international', \n",
        "      'place-types' : 'settlement,airport,district', \n",
        "      'order' : 'importance', \n",
        "      's' : city, \n",
        "      'a' : 'true', \n",
        "      'format' : 'json'\n",
        "})"
      ]
    },
    {
      "cell_type": "code",
      "source": [
        "result = requests.get(location_url).json()    # Making an API call to get the location id of the city\n",
        "result"
      ],
      "metadata": {
        "colab": {
          "base_uri": "https://localhost:8080/"
        },
        "id": "_7SHp1m7giFi",
        "outputId": "45cfd866-d9b5-4291-9a05-4a499dcb08ac"
      },
      "execution_count": 3,
      "outputs": [
        {
          "output_type": "execute_result",
          "data": {
            "text/plain": [
              "{'response': {'results': {'results': [{'container': 'India',\n",
              "     'containerId': 1269750,\n",
              "     'country': 'IN',\n",
              "     'id': '1275339',\n",
              "     'language': 'en',\n",
              "     'latitude': 19.07283,\n",
              "     'longitude': 72.88261,\n",
              "     'name': 'Mumbai',\n",
              "     'placeType': 'settlement',\n",
              "     'timezone': 'Asia/Kolkata'}],\n",
              "   'totalResults': 1}}}"
            ]
          },
          "metadata": {},
          "execution_count": 3
        }
      ]
    },
    {
      "cell_type": "code",
      "source": [
        "city_id = result['response']['results']['results'][0]['id']     # Extracting the location id\n",
        "city_id "
      ],
      "metadata": {
        "colab": {
          "base_uri": "https://localhost:8080/",
          "height": 35
        },
        "id": "JsBnaVO-gta1",
        "outputId": "d813ffac-13b5-498c-88cb-d463c233d0fc"
      },
      "execution_count": 4,
      "outputs": [
        {
          "output_type": "execute_result",
          "data": {
            "application/vnd.google.colaboratory.intrinsic+json": {
              "type": "string"
            },
            "text/plain": [
              "'1275339'"
            ]
          },
          "metadata": {},
          "execution_count": 4
        }
      ]
    },
    {
      "cell_type": "markdown",
      "source": [
        "Getting Data based on city id"
      ],
      "metadata": {
        "id": "rN0nnrBd-pmy"
      }
    },
    {
      "cell_type": "code",
      "source": [
        "url = 'https://www.bbc.com/weather/' + city_id        \n",
        "data = requests.get(url)      # Making connection with the database with location id\n",
        "soup = bs(data.content, 'html.parser')    # Using Beautiful soup to parse the webpage\n",
        "high_temp = soup.find_all('span', 'wr-day-temperature__high-value')     # Getting high temperature in celsius and fehrehite for 14 days\n",
        "low_temp = soup.find_all('span', 'wr-day-temperature__low-value')       # Getting low temperature in celsius and fehrehite for 14 days\n",
        "weather_summary = soup.find_all('div', 'wr-day__details__weather-type-description')   # Getting summary for 14 days\n"
      ],
      "metadata": {
        "id": "obldDIHshDPJ"
      },
      "execution_count": 5,
      "outputs": []
    },
    {
      "cell_type": "code",
      "source": [
        "high_c = [int(x.text.split()[0][:-1]) for x in high_temp]    # Extracting only the celsius temperature\n",
        "low_c = [int(x.text.split()[0][:-1]) for x in low_temp]\n",
        "summary = [x.text for x in weather_summary]     "
      ],
      "metadata": {
        "id": "wRCb7-sqhn0F"
      },
      "execution_count": 6,
      "outputs": []
    },
    {
      "cell_type": "code",
      "source": [
        "if len(high_c) != len(low_c):\n",
        "    high_c = [low_c[0]] + high_c  # this is only when the high value of the day is not-available"
      ],
      "metadata": {
        "id": "l7HUCraAlfDB"
      },
      "execution_count": 7,
      "outputs": []
    },
    {
      "cell_type": "code",
      "source": [
        "date = [(datetime.date.today() + datetime.timedelta(days=i)).strftime('%d-%m-%Y') for i in range(14)]   # List of date for next 14 days\n",
        "date"
      ],
      "metadata": {
        "colab": {
          "base_uri": "https://localhost:8080/"
        },
        "id": "3e912yBimwav",
        "outputId": "6f08e065-2cb1-4367-a04c-a84e73e0d5e6"
      },
      "execution_count": 8,
      "outputs": [
        {
          "output_type": "execute_result",
          "data": {
            "text/plain": [
              "['07-01-2022',\n",
              " '08-01-2022',\n",
              " '09-01-2022',\n",
              " '10-01-2022',\n",
              " '11-01-2022',\n",
              " '12-01-2022',\n",
              " '13-01-2022',\n",
              " '14-01-2022',\n",
              " '15-01-2022',\n",
              " '16-01-2022',\n",
              " '17-01-2022',\n",
              " '18-01-2022',\n",
              " '19-01-2022',\n",
              " '20-01-2022']"
            ]
          },
          "metadata": {},
          "execution_count": 8
        }
      ]
    },
    {
      "cell_type": "markdown",
      "source": [
        "Creating Pandas DataFrame"
      ],
      "metadata": {
        "id": "jzJqSZ9M-lBi"
      }
    },
    {
      "cell_type": "code",
      "source": [
        "weather_df = pd.DataFrame({'Date' : date, 'High' : high_c, 'Low' : low_c, 'Summary' : summary})   # Creating pandas dataframe from the lists\n",
        "weather_df.head(15)\n",
        "weather_df.style.set_caption(city + ' Weather Prediction for next 14 days')"
      ],
      "metadata": {
        "colab": {
          "base_uri": "https://localhost:8080/",
          "height": 506
        },
        "id": "OcCGaWcdlgLT",
        "outputId": "a7eba180-a1a4-4a28-979b-706a4a4eb70e"
      },
      "execution_count": 9,
      "outputs": [
        {
          "output_type": "execute_result",
          "data": {
            "text/html": [
              "<style  type=\"text/css\" >\n",
              "</style><table id=\"T_609f1fb8_6f7a_11ec_9822_0242ac1c0002\" class=\"dataframe\"><caption>Mumbai Weather Prediction for next 14 days</caption><thead>    <tr>        <th class=\"blank level0\" ></th>        <th class=\"col_heading level0 col0\" >Date</th>        <th class=\"col_heading level0 col1\" >High</th>        <th class=\"col_heading level0 col2\" >Low</th>        <th class=\"col_heading level0 col3\" >Summary</th>    </tr></thead><tbody>\n",
              "                <tr>\n",
              "                        <th id=\"T_609f1fb8_6f7a_11ec_9822_0242ac1c0002level0_row0\" class=\"row_heading level0 row0\" >0</th>\n",
              "                        <td id=\"T_609f1fb8_6f7a_11ec_9822_0242ac1c0002row0_col0\" class=\"data row0 col0\" >07-01-2022</td>\n",
              "                        <td id=\"T_609f1fb8_6f7a_11ec_9822_0242ac1c0002row0_col1\" class=\"data row0 col1\" >29</td>\n",
              "                        <td id=\"T_609f1fb8_6f7a_11ec_9822_0242ac1c0002row0_col2\" class=\"data row0 col2\" >21</td>\n",
              "                        <td id=\"T_609f1fb8_6f7a_11ec_9822_0242ac1c0002row0_col3\" class=\"data row0 col3\" >Sunny intervals and a gentle breeze</td>\n",
              "            </tr>\n",
              "            <tr>\n",
              "                        <th id=\"T_609f1fb8_6f7a_11ec_9822_0242ac1c0002level0_row1\" class=\"row_heading level0 row1\" >1</th>\n",
              "                        <td id=\"T_609f1fb8_6f7a_11ec_9822_0242ac1c0002row1_col0\" class=\"data row1 col0\" >08-01-2022</td>\n",
              "                        <td id=\"T_609f1fb8_6f7a_11ec_9822_0242ac1c0002row1_col1\" class=\"data row1 col1\" >27</td>\n",
              "                        <td id=\"T_609f1fb8_6f7a_11ec_9822_0242ac1c0002row1_col2\" class=\"data row1 col2\" >20</td>\n",
              "                        <td id=\"T_609f1fb8_6f7a_11ec_9822_0242ac1c0002row1_col3\" class=\"data row1 col3\" >Light cloud and a gentle breeze</td>\n",
              "            </tr>\n",
              "            <tr>\n",
              "                        <th id=\"T_609f1fb8_6f7a_11ec_9822_0242ac1c0002level0_row2\" class=\"row_heading level0 row2\" >2</th>\n",
              "                        <td id=\"T_609f1fb8_6f7a_11ec_9822_0242ac1c0002row2_col0\" class=\"data row2 col0\" >09-01-2022</td>\n",
              "                        <td id=\"T_609f1fb8_6f7a_11ec_9822_0242ac1c0002row2_col1\" class=\"data row2 col1\" >27</td>\n",
              "                        <td id=\"T_609f1fb8_6f7a_11ec_9822_0242ac1c0002row2_col2\" class=\"data row2 col2\" >18</td>\n",
              "                        <td id=\"T_609f1fb8_6f7a_11ec_9822_0242ac1c0002row2_col3\" class=\"data row2 col3\" >Sunny intervals and a gentle breeze</td>\n",
              "            </tr>\n",
              "            <tr>\n",
              "                        <th id=\"T_609f1fb8_6f7a_11ec_9822_0242ac1c0002level0_row3\" class=\"row_heading level0 row3\" >3</th>\n",
              "                        <td id=\"T_609f1fb8_6f7a_11ec_9822_0242ac1c0002row3_col0\" class=\"data row3 col0\" >10-01-2022</td>\n",
              "                        <td id=\"T_609f1fb8_6f7a_11ec_9822_0242ac1c0002row3_col1\" class=\"data row3 col1\" >26</td>\n",
              "                        <td id=\"T_609f1fb8_6f7a_11ec_9822_0242ac1c0002row3_col2\" class=\"data row3 col2\" >18</td>\n",
              "                        <td id=\"T_609f1fb8_6f7a_11ec_9822_0242ac1c0002row3_col3\" class=\"data row3 col3\" >Sunny intervals and a gentle breeze</td>\n",
              "            </tr>\n",
              "            <tr>\n",
              "                        <th id=\"T_609f1fb8_6f7a_11ec_9822_0242ac1c0002level0_row4\" class=\"row_heading level0 row4\" >4</th>\n",
              "                        <td id=\"T_609f1fb8_6f7a_11ec_9822_0242ac1c0002row4_col0\" class=\"data row4 col0\" >11-01-2022</td>\n",
              "                        <td id=\"T_609f1fb8_6f7a_11ec_9822_0242ac1c0002row4_col1\" class=\"data row4 col1\" >28</td>\n",
              "                        <td id=\"T_609f1fb8_6f7a_11ec_9822_0242ac1c0002row4_col2\" class=\"data row4 col2\" >19</td>\n",
              "                        <td id=\"T_609f1fb8_6f7a_11ec_9822_0242ac1c0002row4_col3\" class=\"data row4 col3\" >Sunny intervals and a gentle breeze</td>\n",
              "            </tr>\n",
              "            <tr>\n",
              "                        <th id=\"T_609f1fb8_6f7a_11ec_9822_0242ac1c0002level0_row5\" class=\"row_heading level0 row5\" >5</th>\n",
              "                        <td id=\"T_609f1fb8_6f7a_11ec_9822_0242ac1c0002row5_col0\" class=\"data row5 col0\" >12-01-2022</td>\n",
              "                        <td id=\"T_609f1fb8_6f7a_11ec_9822_0242ac1c0002row5_col1\" class=\"data row5 col1\" >28</td>\n",
              "                        <td id=\"T_609f1fb8_6f7a_11ec_9822_0242ac1c0002row5_col2\" class=\"data row5 col2\" >20</td>\n",
              "                        <td id=\"T_609f1fb8_6f7a_11ec_9822_0242ac1c0002row5_col3\" class=\"data row5 col3\" >Sunny intervals and a gentle breeze</td>\n",
              "            </tr>\n",
              "            <tr>\n",
              "                        <th id=\"T_609f1fb8_6f7a_11ec_9822_0242ac1c0002level0_row6\" class=\"row_heading level0 row6\" >6</th>\n",
              "                        <td id=\"T_609f1fb8_6f7a_11ec_9822_0242ac1c0002row6_col0\" class=\"data row6 col0\" >13-01-2022</td>\n",
              "                        <td id=\"T_609f1fb8_6f7a_11ec_9822_0242ac1c0002row6_col1\" class=\"data row6 col1\" >28</td>\n",
              "                        <td id=\"T_609f1fb8_6f7a_11ec_9822_0242ac1c0002row6_col2\" class=\"data row6 col2\" >20</td>\n",
              "                        <td id=\"T_609f1fb8_6f7a_11ec_9822_0242ac1c0002row6_col3\" class=\"data row6 col3\" >Sunny intervals and a gentle breeze</td>\n",
              "            </tr>\n",
              "            <tr>\n",
              "                        <th id=\"T_609f1fb8_6f7a_11ec_9822_0242ac1c0002level0_row7\" class=\"row_heading level0 row7\" >7</th>\n",
              "                        <td id=\"T_609f1fb8_6f7a_11ec_9822_0242ac1c0002row7_col0\" class=\"data row7 col0\" >14-01-2022</td>\n",
              "                        <td id=\"T_609f1fb8_6f7a_11ec_9822_0242ac1c0002row7_col1\" class=\"data row7 col1\" >28</td>\n",
              "                        <td id=\"T_609f1fb8_6f7a_11ec_9822_0242ac1c0002row7_col2\" class=\"data row7 col2\" >19</td>\n",
              "                        <td id=\"T_609f1fb8_6f7a_11ec_9822_0242ac1c0002row7_col3\" class=\"data row7 col3\" >Sunny intervals and a gentle breeze</td>\n",
              "            </tr>\n",
              "            <tr>\n",
              "                        <th id=\"T_609f1fb8_6f7a_11ec_9822_0242ac1c0002level0_row8\" class=\"row_heading level0 row8\" >8</th>\n",
              "                        <td id=\"T_609f1fb8_6f7a_11ec_9822_0242ac1c0002row8_col0\" class=\"data row8 col0\" >15-01-2022</td>\n",
              "                        <td id=\"T_609f1fb8_6f7a_11ec_9822_0242ac1c0002row8_col1\" class=\"data row8 col1\" >29</td>\n",
              "                        <td id=\"T_609f1fb8_6f7a_11ec_9822_0242ac1c0002row8_col2\" class=\"data row8 col2\" >20</td>\n",
              "                        <td id=\"T_609f1fb8_6f7a_11ec_9822_0242ac1c0002row8_col3\" class=\"data row8 col3\" >Sunny intervals and a gentle breeze</td>\n",
              "            </tr>\n",
              "            <tr>\n",
              "                        <th id=\"T_609f1fb8_6f7a_11ec_9822_0242ac1c0002level0_row9\" class=\"row_heading level0 row9\" >9</th>\n",
              "                        <td id=\"T_609f1fb8_6f7a_11ec_9822_0242ac1c0002row9_col0\" class=\"data row9 col0\" >16-01-2022</td>\n",
              "                        <td id=\"T_609f1fb8_6f7a_11ec_9822_0242ac1c0002row9_col1\" class=\"data row9 col1\" >30</td>\n",
              "                        <td id=\"T_609f1fb8_6f7a_11ec_9822_0242ac1c0002row9_col2\" class=\"data row9 col2\" >20</td>\n",
              "                        <td id=\"T_609f1fb8_6f7a_11ec_9822_0242ac1c0002row9_col3\" class=\"data row9 col3\" >Sunny intervals and a gentle breeze</td>\n",
              "            </tr>\n",
              "            <tr>\n",
              "                        <th id=\"T_609f1fb8_6f7a_11ec_9822_0242ac1c0002level0_row10\" class=\"row_heading level0 row10\" >10</th>\n",
              "                        <td id=\"T_609f1fb8_6f7a_11ec_9822_0242ac1c0002row10_col0\" class=\"data row10 col0\" >17-01-2022</td>\n",
              "                        <td id=\"T_609f1fb8_6f7a_11ec_9822_0242ac1c0002row10_col1\" class=\"data row10 col1\" >31</td>\n",
              "                        <td id=\"T_609f1fb8_6f7a_11ec_9822_0242ac1c0002row10_col2\" class=\"data row10 col2\" >20</td>\n",
              "                        <td id=\"T_609f1fb8_6f7a_11ec_9822_0242ac1c0002row10_col3\" class=\"data row10 col3\" >Sunny intervals and a gentle breeze</td>\n",
              "            </tr>\n",
              "            <tr>\n",
              "                        <th id=\"T_609f1fb8_6f7a_11ec_9822_0242ac1c0002level0_row11\" class=\"row_heading level0 row11\" >11</th>\n",
              "                        <td id=\"T_609f1fb8_6f7a_11ec_9822_0242ac1c0002row11_col0\" class=\"data row11 col0\" >18-01-2022</td>\n",
              "                        <td id=\"T_609f1fb8_6f7a_11ec_9822_0242ac1c0002row11_col1\" class=\"data row11 col1\" >31</td>\n",
              "                        <td id=\"T_609f1fb8_6f7a_11ec_9822_0242ac1c0002row11_col2\" class=\"data row11 col2\" >20</td>\n",
              "                        <td id=\"T_609f1fb8_6f7a_11ec_9822_0242ac1c0002row11_col3\" class=\"data row11 col3\" >Sunny intervals and a gentle breeze</td>\n",
              "            </tr>\n",
              "            <tr>\n",
              "                        <th id=\"T_609f1fb8_6f7a_11ec_9822_0242ac1c0002level0_row12\" class=\"row_heading level0 row12\" >12</th>\n",
              "                        <td id=\"T_609f1fb8_6f7a_11ec_9822_0242ac1c0002row12_col0\" class=\"data row12 col0\" >19-01-2022</td>\n",
              "                        <td id=\"T_609f1fb8_6f7a_11ec_9822_0242ac1c0002row12_col1\" class=\"data row12 col1\" >31</td>\n",
              "                        <td id=\"T_609f1fb8_6f7a_11ec_9822_0242ac1c0002row12_col2\" class=\"data row12 col2\" >20</td>\n",
              "                        <td id=\"T_609f1fb8_6f7a_11ec_9822_0242ac1c0002row12_col3\" class=\"data row12 col3\" >Sunny intervals and a gentle breeze</td>\n",
              "            </tr>\n",
              "            <tr>\n",
              "                        <th id=\"T_609f1fb8_6f7a_11ec_9822_0242ac1c0002level0_row13\" class=\"row_heading level0 row13\" >13</th>\n",
              "                        <td id=\"T_609f1fb8_6f7a_11ec_9822_0242ac1c0002row13_col0\" class=\"data row13 col0\" >20-01-2022</td>\n",
              "                        <td id=\"T_609f1fb8_6f7a_11ec_9822_0242ac1c0002row13_col1\" class=\"data row13 col1\" >30</td>\n",
              "                        <td id=\"T_609f1fb8_6f7a_11ec_9822_0242ac1c0002row13_col2\" class=\"data row13 col2\" >19</td>\n",
              "                        <td id=\"T_609f1fb8_6f7a_11ec_9822_0242ac1c0002row13_col3\" class=\"data row13 col3\" >Sunny intervals and a gentle breeze</td>\n",
              "            </tr>\n",
              "    </tbody></table>"
            ],
            "text/plain": [
              "<pandas.io.formats.style.Styler at 0x7fd6ca294c90>"
            ]
          },
          "metadata": {},
          "execution_count": 9
        }
      ]
    }
  ]
}